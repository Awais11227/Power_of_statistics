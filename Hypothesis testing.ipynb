{
 "cells": [
  {
   "cell_type": "markdown",
   "id": "c928674e",
   "metadata": {
    "id": "d25eed62-5910-4d10-a976-c18c4f7d99f7"
   },
   "source": [
    "# **Explore hypothesis testing**"
   ]
  },
  {
   "cell_type": "markdown",
   "id": "a2cb3b2c",
   "metadata": {
    "id": "3b4dc9a5-d724-4696-a704-57fefa9d5938"
   },
   "source": [
    "# **Step 1: Imports**\n"
   ]
  },
  {
   "cell_type": "code",
   "execution_count": 2,
   "id": "f7d7601c",
   "metadata": {
    "id": "0b3d0e1c-23b9-4491-82a5-ac1e4bd36f30"
   },
   "outputs": [],
   "source": [
    "\n",
    "import pandas as pd\n",
    "import numpy as np\n",
    "from scipy import stats"
   ]
  },
  {
   "cell_type": "markdown",
   "id": "91f25344",
   "metadata": {
    "id": "4b765030-5f02-47d2-aa77-8ac5b2117cc1"
   },
   "source": [
    "# **Load Dataset**"
   ]
  },
  {
   "cell_type": "code",
   "execution_count": 12,
   "id": "568e3387",
   "metadata": {
    "colab": {
     "base_uri": "https://localhost:8080/",
     "height": 458
    },
    "id": "1ce82ed7-cf32-4028-ac77-a377e7638458",
    "outputId": "eafc0ef5-c72f-425d-b61c-58d22c7a6586",
    "tags": []
   },
   "outputs": [
    {
     "data": {
      "application/vnd.microsoft.datawrangler.viewer.v0+json": {
       "columns": [
        {
         "name": "index",
         "rawType": "int64",
         "type": "integer"
        },
        {
         "name": "Unnamed: 0",
         "rawType": "int64",
         "type": "integer"
        },
        {
         "name": "date_local",
         "rawType": "object",
         "type": "string"
        },
        {
         "name": "state_name",
         "rawType": "object",
         "type": "string"
        },
        {
         "name": "county_name",
         "rawType": "object",
         "type": "string"
        },
        {
         "name": "city_name",
         "rawType": "object",
         "type": "string"
        },
        {
         "name": "local_site_name",
         "rawType": "object",
         "type": "string"
        },
        {
         "name": "parameter_name",
         "rawType": "object",
         "type": "string"
        },
        {
         "name": "units_of_measure",
         "rawType": "object",
         "type": "string"
        },
        {
         "name": "arithmetic_mean",
         "rawType": "float64",
         "type": "float"
        },
        {
         "name": "aqi",
         "rawType": "int64",
         "type": "integer"
        }
       ],
       "ref": "bd5cae8d-d06e-4df0-8d57-8514d1640b24",
       "rows": [
        [
         "0",
         "0",
         "2018-01-01",
         "Arizona",
         "Maricopa",
         "Buckeye",
         "BUCKEYE",
         "Carbon monoxide",
         "Parts per million",
         "0.473684",
         "7"
        ],
        [
         "1",
         "1",
         "2018-01-01",
         "Ohio",
         "Belmont",
         "Shadyside",
         "Shadyside",
         "Carbon monoxide",
         "Parts per million",
         "0.263158",
         "5"
        ]
       ],
       "shape": {
        "columns": 10,
        "rows": 2
       }
      },
      "text/html": [
       "<div>\n",
       "<style scoped>\n",
       "    .dataframe tbody tr th:only-of-type {\n",
       "        vertical-align: middle;\n",
       "    }\n",
       "\n",
       "    .dataframe tbody tr th {\n",
       "        vertical-align: top;\n",
       "    }\n",
       "\n",
       "    .dataframe thead th {\n",
       "        text-align: right;\n",
       "    }\n",
       "</style>\n",
       "<table border=\"1\" class=\"dataframe\">\n",
       "  <thead>\n",
       "    <tr style=\"text-align: right;\">\n",
       "      <th></th>\n",
       "      <th>Unnamed: 0</th>\n",
       "      <th>date_local</th>\n",
       "      <th>state_name</th>\n",
       "      <th>county_name</th>\n",
       "      <th>city_name</th>\n",
       "      <th>local_site_name</th>\n",
       "      <th>parameter_name</th>\n",
       "      <th>units_of_measure</th>\n",
       "      <th>arithmetic_mean</th>\n",
       "      <th>aqi</th>\n",
       "    </tr>\n",
       "  </thead>\n",
       "  <tbody>\n",
       "    <tr>\n",
       "      <th>0</th>\n",
       "      <td>0</td>\n",
       "      <td>2018-01-01</td>\n",
       "      <td>Arizona</td>\n",
       "      <td>Maricopa</td>\n",
       "      <td>Buckeye</td>\n",
       "      <td>BUCKEYE</td>\n",
       "      <td>Carbon monoxide</td>\n",
       "      <td>Parts per million</td>\n",
       "      <td>0.473684</td>\n",
       "      <td>7</td>\n",
       "    </tr>\n",
       "    <tr>\n",
       "      <th>1</th>\n",
       "      <td>1</td>\n",
       "      <td>2018-01-01</td>\n",
       "      <td>Ohio</td>\n",
       "      <td>Belmont</td>\n",
       "      <td>Shadyside</td>\n",
       "      <td>Shadyside</td>\n",
       "      <td>Carbon monoxide</td>\n",
       "      <td>Parts per million</td>\n",
       "      <td>0.263158</td>\n",
       "      <td>5</td>\n",
       "    </tr>\n",
       "  </tbody>\n",
       "</table>\n",
       "</div>"
      ],
      "text/plain": [
       "   Unnamed: 0  date_local state_name county_name  city_name local_site_name  \\\n",
       "0           0  2018-01-01    Arizona    Maricopa    Buckeye         BUCKEYE   \n",
       "1           1  2018-01-01       Ohio     Belmont  Shadyside       Shadyside   \n",
       "\n",
       "    parameter_name   units_of_measure  arithmetic_mean  aqi  \n",
       "0  Carbon monoxide  Parts per million         0.473684    7  \n",
       "1  Carbon monoxide  Parts per million         0.263158    5  "
      ]
     },
     "execution_count": 12,
     "metadata": {},
     "output_type": "execute_result"
    }
   ],
   "source": [
    "\n",
    "\n",
    "df = pd.read_csv(r'c:/Users/hp/Downloads/c4_epa_air_quality.csv')\n",
    "df.head(2)"
   ]
  },
  {
   "cell_type": "code",
   "execution_count": 13,
   "id": "2b11cdc6",
   "metadata": {},
   "outputs": [],
   "source": [
    "# Drop the first two columns\n",
    "data = df.drop(df.columns[[0, 1]], axis=1)\n",
    "\n"
   ]
  },
  {
   "cell_type": "code",
   "execution_count": 14,
   "id": "7ec274de",
   "metadata": {},
   "outputs": [
    {
     "data": {
      "text/plain": [
       "(260, 8)"
      ]
     },
     "execution_count": 14,
     "metadata": {},
     "output_type": "execute_result"
    }
   ],
   "source": [
    "data.shape"
   ]
  },
  {
   "cell_type": "markdown",
   "id": "012ea2f1",
   "metadata": {
    "id": "ZDz9XgvMy0MD"
   },
   "source": [
    "## **Step 2: Data Exploration**"
   ]
  },
  {
   "cell_type": "code",
   "execution_count": 15,
   "id": "15606ec8",
   "metadata": {
    "id": "0444122d-6fba-4051-8b09-b15392aacebf",
    "scrolled": false,
    "tags": []
   },
   "outputs": [
    {
     "name": "stdout",
     "output_type": "stream",
     "text": [
      "Use head() to show a sample of data\n",
      "     state_name   county_name      city_name  \\\n",
      "0       Arizona      Maricopa        Buckeye   \n",
      "1          Ohio       Belmont      Shadyside   \n",
      "2       Wyoming         Teton  Not in a city   \n",
      "3  Pennsylvania  Philadelphia   Philadelphia   \n",
      "4          Iowa          Polk     Des Moines   \n",
      "\n",
      "                                     local_site_name   parameter_name  \\\n",
      "0                                            BUCKEYE  Carbon monoxide   \n",
      "1                                          Shadyside  Carbon monoxide   \n",
      "2  Yellowstone National Park - Old Faithful Snow ...  Carbon monoxide   \n",
      "3                             North East Waste (NEW)  Carbon monoxide   \n",
      "4                                          CARPENTER  Carbon monoxide   \n",
      "\n",
      "    units_of_measure  arithmetic_mean  aqi  \n",
      "0  Parts per million         0.473684    7  \n",
      "1  Parts per million         0.263158    5  \n",
      "2  Parts per million         0.111111    2  \n",
      "3  Parts per million         0.300000    3  \n",
      "4  Parts per million         0.215789    3  \n",
      "Use describe() to summarize AQI\n",
      "        state_name  county_name      city_name local_site_name  \\\n",
      "count          260          260            260             257   \n",
      "unique          52          149            190             253   \n",
      "top     California  Los Angeles  Not in a city         Kapolei   \n",
      "freq            66           14             21               2   \n",
      "mean           NaN          NaN            NaN             NaN   \n",
      "std            NaN          NaN            NaN             NaN   \n",
      "min            NaN          NaN            NaN             NaN   \n",
      "25%            NaN          NaN            NaN             NaN   \n",
      "50%            NaN          NaN            NaN             NaN   \n",
      "75%            NaN          NaN            NaN             NaN   \n",
      "max            NaN          NaN            NaN             NaN   \n",
      "\n",
      "         parameter_name   units_of_measure  arithmetic_mean         aqi  \n",
      "count               260                260       260.000000  260.000000  \n",
      "unique                1                  1              NaN         NaN  \n",
      "top     Carbon monoxide  Parts per million              NaN         NaN  \n",
      "freq                260                260              NaN         NaN  \n",
      "mean                NaN                NaN         0.403169    6.757692  \n",
      "std                 NaN                NaN         0.317902    7.061707  \n",
      "min                 NaN                NaN         0.000000    0.000000  \n",
      "25%                 NaN                NaN         0.200000    2.000000  \n",
      "50%                 NaN                NaN         0.276315    5.000000  \n",
      "75%                 NaN                NaN         0.516009    9.000000  \n",
      "max                 NaN                NaN         1.921053   50.000000  \n",
      "For a more thorough examination of observations by state use values_counts()\n",
      "state_name\n",
      "California              66\n",
      "Arizona                 14\n",
      "Ohio                    12\n",
      "Florida                 12\n",
      "Texas                   10\n",
      "Pennsylvania            10\n",
      "New York                10\n",
      "Colorado                 9\n",
      "Michigan                 9\n",
      "Minnesota                7\n",
      "New Jersey               6\n",
      "Indiana                  5\n",
      "Nevada                   4\n",
      "Maryland                 4\n",
      "Massachusetts            4\n",
      "Oklahoma                 4\n",
      "North Carolina           4\n",
      "Virginia                 4\n",
      "Connecticut              4\n",
      "Wyoming                  3\n",
      "Utah                     3\n",
      "Hawaii                   3\n",
      "Illinois                 3\n",
      "Missouri                 3\n",
      "Iowa                     3\n",
      "Kentucky                 3\n",
      "Vermont                  3\n",
      "Rhode Island             2\n",
      "Alaska                   2\n",
      "Georgia                  2\n",
      "Washington               2\n",
      "Idaho                    2\n",
      "Nebraska                 2\n",
      "Montana                  2\n",
      "Tennessee                2\n",
      "Maine                    2\n",
      "New Mexico               2\n",
      "District Of Columbia     2\n",
      "Oregon                   2\n",
      "New Hampshire            2\n",
      "Kansas                   1\n",
      "Alabama                  1\n",
      "South Dakota             1\n",
      "West Virginia            1\n",
      "Mississippi              1\n",
      "Louisiana                1\n",
      "Delaware                 1\n",
      "North Dakota             1\n",
      "Arkansas                 1\n",
      "Puerto Rico              1\n",
      "South Carolina           1\n",
      "Wisconsin                1\n",
      "Name: count, dtype: int64\n",
      "for a more\n"
     ]
    }
   ],
   "source": [
    "\n",
    "\n",
    "print(\"Use head() to show a sample of data\")\n",
    "print(data.head())\n",
    "\n",
    "print(\"Use describe() to summarize AQI\")\n",
    "print(data.describe(include='all'))\n",
    "\n",
    "print(\"For a more thorough examination of observations by state use values_counts()\")\n",
    "print(data['state_name'].value_counts())\n",
    "\n",
    "print('for a more')"
   ]
  },
  {
   "cell_type": "markdown",
   "id": "09ee5321",
   "metadata": {
    "id": "fd48d0f0-3f90-455e-87a1-0da43fcac202"
   },
   "source": [
    "## **Step 3. Statistical Tests**\n",
    "\n"
   ]
  },
  {
   "cell_type": "code",
   "execution_count": 16,
   "id": "2e29427d",
   "metadata": {
    "id": "c8e42529-af00-4699-96b4-bd0f8989014a"
   },
   "outputs": [],
   "source": [
    "\n",
    "ca_la = data[data['county_name']=='Los Angeles']\n",
    "ca_other = data[(data['state_name']=='California') & (data['county_name']!='Los Angeles')]"
   ]
  },
  {
   "cell_type": "markdown",
   "id": "9dc4bd33",
   "metadata": {
    "id": "5dac3136-16bf-45d2-a560-05fe5361f5cb"
   },
   "source": [
    "# **significance level**"
   ]
  },
  {
   "cell_type": "code",
   "execution_count": 17,
   "id": "f32c2579",
   "metadata": {
    "id": "5ef36549-7ccb-4547-bf04-d23b166c65d4"
   },
   "outputs": [
    {
     "data": {
      "text/plain": [
       "0.05"
      ]
     },
     "execution_count": 17,
     "metadata": {},
     "output_type": "execute_result"
    }
   ],
   "source": [
    "# For this analysis, the significance level is 5%\n",
    "\n",
    "significance_level = 0.05\n",
    "significance_level"
   ]
  },
  {
   "cell_type": "markdown",
   "id": "32426a5d",
   "metadata": {
    "id": "e862eb4d-a170-4126-9373-a527bf5659da"
   },
   "source": [
    "#### **Compute the `p-value`**"
   ]
  },
  {
   "cell_type": "code",
   "execution_count": 19,
   "id": "61b734cc",
   "metadata": {
    "id": "83ef0d80-48ec-4a5a-8acd-0fab137243c3",
    "tags": []
   },
   "outputs": [
    {
     "data": {
      "text/plain": [
       "TtestResult(statistic=np.float64(2.1107010796372014), pvalue=np.float64(0.049839056842410995), df=np.float64(17.08246830361151))"
      ]
     },
     "execution_count": 19,
     "metadata": {},
     "output_type": "execute_result"
    }
   ],
   "source": [
    "stats.ttest_ind(a=ca_la['aqi'], b=ca_other['aqi'], equal_var=False)"
   ]
  },
  {
   "cell_type": "code",
   "execution_count": 20,
   "id": "088ec84f",
   "metadata": {
    "id": "f39b7d83-9fbf-4bba-90c2-c99f903badd8"
   },
   "outputs": [],
   "source": [
    "\n",
    "ny = data[data['state_name']=='New York']\n",
    "ohio = data[data['state_name']=='Ohio']"
   ]
  },
  {
   "cell_type": "markdown",
   "id": "9fbdc37c",
   "metadata": {
    "id": "77f03fc8-0663-48b2-af4b-2936b35027e7"
   },
   "source": [
    "#  p-value"
   ]
  },
  {
   "cell_type": "code",
   "execution_count": 21,
   "id": "adf3c833",
   "metadata": {
    "id": "e495500f-c3d9-4cf2-ad1d-4687640a01b4",
    "tags": []
   },
   "outputs": [
    {
     "name": "stdout",
     "output_type": "stream",
     "text": [
      "-2.025951038880333\n",
      "0.030446502691934683\n"
     ]
    }
   ],
   "source": [
    "tstat, pvalue = stats.ttest_ind(a=ny['aqi'], b=ohio['aqi'], alternative='less', equal_var=False)\n",
    "print(tstat)\n",
    "print(pvalue)"
   ]
  },
  {
   "cell_type": "code",
   "execution_count": 22,
   "id": "4af4599c",
   "metadata": {
    "id": "559c43b4-ccb3-4a05-91d4-8f4aaee4d8b7"
   },
   "outputs": [],
   "source": [
    "\n",
    "michigan = data[data['state_name']=='Michigan']"
   ]
  },
  {
   "cell_type": "markdown",
   "id": "eb1d404e",
   "metadata": {
    "id": "95443324-76bb-4473-b07b-dcc0c9be7251"
   },
   "source": [
    "#### Compute the P-value"
   ]
  },
  {
   "cell_type": "code",
   "execution_count": null,
   "id": "f6251067",
   "metadata": {
    "id": "8b86c9f5-284a-4ed7-b2d4-2b531e0092f9",
    "tags": []
   },
   "outputs": [
    {
     "name": "stdout",
     "output_type": "stream",
     "text": [
      "-1.7395913343286131\n",
      "0.9399405193140109\n"
     ]
    }
   ],
   "source": [
    "# Compute your p-value here\n",
    "\n",
    "\n",
    "\n",
    "tstat, pvalue = stats.ttest_1samp(michigan['aqi'], 10, alternative='greater')\n",
    "print(tstat)\n",
    "print(pvalue)"
   ]
  },
  {
   "cell_type": "markdown",
   "id": "19bf2eaf",
   "metadata": {
    "id": "oS3JWcpU127z"
   },
   "source": [
    "# **Step 4. Results and Evaluation**\n",
    "\n"
   ]
  },
  {
   "cell_type": "markdown",
   "id": "f930174c",
   "metadata": {
    "id": "e2bf2c48-c712-4310-a83e-96a13edc4da1"
   },
   "source": [
    "# Conclusion\n",
    "\n",
    "| Audience       | Key Points                                                                 |\n",
    "|----------------|-----------------------------------------------------------------------------|\n",
    "| General Takeaway | Small samples can still show significant results at 5% level.              |\n",
    "| Findings        | - LA AQI ≠ Rest of California<br>- NY AQI < Ohio AQI<br>- Michigan AQI > 10 not confirmed |\n",
    "| For Managers    | - Show hypotheses & conclusions<br>- Report p-values<br>- Mention test type (one/two-tailed) |\n",
    "| For Stakeholders| - Share conclusions at 5% level<br>- Add sample statistics for context     |\n"
   ]
  }
 ],
 "metadata": {
  "colab": {
   "collapsed_sections": [
    "b12559f5-bd57-4664-be80-7208ca8818b4",
    "32581125-a9ef-4b17-b8d5-0e1085d4c746"
   ],
   "provenance": []
  },
  "kernelspec": {
   "display_name": "Python 3",
   "language": "python",
   "name": "python3"
  },
  "language_info": {
   "codemirror_mode": {
    "name": "ipython",
    "version": 3
   },
   "file_extension": ".py",
   "mimetype": "text/x-python",
   "name": "python",
   "nbconvert_exporter": "python",
   "pygments_lexer": "ipython3",
   "version": "3.12.2"
  }
 },
 "nbformat": 4,
 "nbformat_minor": 5
}
